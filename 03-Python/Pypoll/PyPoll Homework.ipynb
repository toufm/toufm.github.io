{
 "cells": [
  {
   "cell_type": "code",
   "execution_count": 1,
   "metadata": {},
   "outputs": [],
   "source": [
    "import os\n",
    "import csv"
   ]
  },
  {
   "cell_type": "code",
   "execution_count": 11,
   "metadata": {},
   "outputs": [],
   "source": [
    "# Declare file location through pathlib\n",
    "election_data = os.path.join(\"Resources\", \"election_data.csv\")"
   ]
  },
  {
   "cell_type": "code",
   "execution_count": 12,
   "metadata": {},
   "outputs": [
    {
     "name": "stdout",
     "output_type": "stream",
     "text": [
      "PyPoll Homework.ipynb  \u001b[34mResources\u001b[m\u001b[m/\r\n"
     ]
    }
   ],
   "source": [
    "ls"
   ]
  },
  {
   "cell_type": "code",
   "execution_count": 15,
   "metadata": {},
   "outputs": [
    {
     "name": "stdout",
     "output_type": "stream",
     "text": [
      "Election Results\n",
      "----------------------------\n",
      "Total Votes: 3521001\n",
      "----------------------------\n",
      "Khan: 63.000% (2218231)\n",
      "Correy: 20.000% (704200)\n",
      "Li: 14.000% (492940)\n",
      "O'Tooley: 3.000% (105630)\n",
      "----------------------------\n",
      "Winner: Khan\n",
      "----------------------------\n"
     ]
    }
   ],
   "source": [
    "# Create Variables \n",
    "total_votes = 0 \n",
    "khan_votes = 0\n",
    "correy_votes = 0\n",
    "li_votes = 0\n",
    "otooley_votes = 0\n",
    "\n",
    "# Open csv in default read mode with context manager\n",
    "with open(election_data,newline=\"\", encoding=\"utf-8\") as elections:\n",
    "\n",
    "    # Store data under the csvreader variable\n",
    "    csvreader = csv.reader(elections,delimiter=\",\") \n",
    "\n",
    "    # Skip the header so we iterate through the actual values\n",
    "    header = next(csvreader)     \n",
    "\n",
    "    # Iterate through each row in the csv\n",
    "    for row in csvreader: \n",
    "\n",
    "        # Count the unique Voter ID's and store in variable  called total_votes\n",
    "        total_votes +=1\n",
    "\n",
    "        # We have four candidates if the name is found, count the times it appears and store in a list\n",
    "        # We can use this values in our percent vote calculation in the print statements\n",
    "        if row[2] == \"Khan\": \n",
    "            khan_votes +=1\n",
    "        elif row[2] == \"Correy\":\n",
    "            correy_votes +=1\n",
    "        elif row[2] == \"Li\": \n",
    "            li_votes +=1\n",
    "        elif row[2] == \"O'Tooley\":\n",
    "            otooley_votes +=1\n",
    "\n",
    " # To find the winner we want to make a dictionary out of the two lists we previously created \n",
    "candidates = [\"Khan\", \"Correy\", \"Li\",\"O'Tooley\"]\n",
    "votes = [khan_votes, correy_votes,li_votes,otooley_votes]\n",
    "\n",
    "# We zip them together the list of candidate(key) and the total votes(value)\n",
    "# Return the winner using a max function of the dictionary \n",
    "dict_candidates_and_votes = dict(zip(candidates,votes))\n",
    "key = max(dict_candidates_and_votes, key=dict_candidates_and_votes.get)\n",
    "\n",
    "# Print a the summary of the analysis\n",
    "khan_percent = (khan_votes/total_votes) *100\n",
    "correy_percent = (correy_votes/total_votes) * 100\n",
    "li_percent = (li_votes/total_votes)* 100\n",
    "otooley_percent = (otooley_votes/total_votes) * 100\n",
    "\n",
    "# Print the summary table\n",
    "print(f\"Election Results\")\n",
    "print(f\"----------------------------\")\n",
    "print(f\"Total Votes: {total_votes}\")\n",
    "print(f\"----------------------------\")\n",
    "print(f\"Khan: {khan_percent:.3f}% ({khan_votes})\")\n",
    "print(f\"Correy: {correy_percent:.3f}% ({correy_votes})\")\n",
    "print(f\"Li: {li_percent:.3f}% ({li_votes})\")\n",
    "print(f\"O'Tooley: {otooley_percent:.3f}% ({otooley_votes})\")\n",
    "print(f\"----------------------------\")\n",
    "print(f\"Winner: {key}\")\n",
    "print(f\"----------------------------\")\n",
    "\n",
    "# Output files\n",
    "# Assign output file location and with the pathlib library\n",
    "export_file_pypoll = os.path.join(\"Resources\", \"Election_Results_Summary.txt\")\n",
    "\n",
    "with open(export_file_pypoll,\"w\") as file:\n",
    "\n",
    "# Write methods to print to Elections_Results_Summary \n",
    "    file.write(f\"Election Results\")\n",
    "    file.write(\"\\n\")\n",
    "    file.write(f\"----------------------------\")\n",
    "    file.write(\"\\n\")\n",
    "    file.write(f\"Total Votes: {total_votes}\")\n",
    "    file.write(\"\\n\")\n",
    "    file.write(f\"----------------------------\")\n",
    "    file.write(\"\\n\")\n",
    "    file.write(f\"Khan: {khan_percent:.3f}% ({khan_votes})\")\n",
    "    file.write(\"\\n\")\n",
    "    file.write(f\"Correy: {correy_percent:.3f}% ({correy_votes})\")\n",
    "    file.write(\"\\n\")\n",
    "    file.write(f\"Li: {li_percent:.3f}% ({li_votes})\")\n",
    "    file.write(\"\\n\")\n",
    "    file.write(f\"O'Tooley: {otooley_percent:.3f}% ({otooley_votes})\")\n",
    "    file.write(\"\\n\")\n",
    "    file.write(f\"----------------------------\")\n",
    "    file.write(\"\\n\")\n",
    "    file.write(f\"Winner: {key}\")\n",
    "    file.write(\"\\n\")\n",
    "    file.write(f\"----------------------------\")\n"
   ]
  },
  {
   "cell_type": "code",
   "execution_count": null,
   "metadata": {},
   "outputs": [],
   "source": []
  },
  {
   "cell_type": "code",
   "execution_count": null,
   "metadata": {},
   "outputs": [],
   "source": []
  }
 ],
 "metadata": {
  "kernelspec": {
   "display_name": "Python 3",
   "language": "python",
   "name": "python3"
  },
  "language_info": {
   "codemirror_mode": {
    "name": "ipython",
    "version": 3
   },
   "file_extension": ".py",
   "mimetype": "text/x-python",
   "name": "python",
   "nbconvert_exporter": "python",
   "pygments_lexer": "ipython3",
   "version": "3.8.3"
  }
 },
 "nbformat": 4,
 "nbformat_minor": 4
}
